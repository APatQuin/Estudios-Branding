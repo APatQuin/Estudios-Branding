{
 "cells": [
  {
   "cell_type": "markdown",
   "id": "15c6f6c8",
   "metadata": {},
   "source": [
    "# Clasificación de Palabras Clave (Cosmética Antiedad) con OpenAI\n",
    "Este notebook permite clasificar palabras clave en categorías usando OpenAI (versión 1.0 o superior) y un archivo CSV con columna `keywords`."
   ]
  },
  {
   "cell_type": "code",
   "execution_count": 13,
   "id": "9aa09cb8",
   "metadata": {},
   "outputs": [],
   "source": [
    "# ✅ Librerías necesarias\n",
    "from openai import OpenAI\n",
    "import pandas as pd\n",
    "from IPython.display import display"
   ]
  },
  {
   "cell_type": "code",
   "execution_count": 1,
   "id": "f51b4bbe",
   "metadata": {},
   "outputs": [
    {
     "ename": "NameError",
     "evalue": "name 'OpenAI' is not defined",
     "output_type": "error",
     "traceback": [
      "\u001b[0;31m---------------------------------------------------------------------------\u001b[0m",
      "\u001b[0;31mNameError\u001b[0m                                 Traceback (most recent call last)",
      "Cell \u001b[0;32mIn[1], line 2\u001b[0m\n\u001b[1;32m      1\u001b[0m \u001b[38;5;66;03m# 🔐 Inicializar cliente OpenAI con tu clave\u001b[39;00m\n\u001b[0;32m----> 2\u001b[0m client \u001b[38;5;241m=\u001b[39m OpenAI(api_key\u001b[38;5;241m=\u001b[39m\u001b[38;5;124m\"\u001b[39m\u001b[38;5;124mtu api key\u001b[39m\u001b[38;5;124m\"\u001b[39m)\n",
      "\u001b[0;31mNameError\u001b[0m: name 'OpenAI' is not defined"
     ]
    }
   ],
   "source": [
    "# 🔐 Inicializar cliente OpenAI con tu clave\n",
    "client = OpenAI(api_key=\"tu api key\")"
   ]
  },
  {
   "cell_type": "code",
   "execution_count": 2,
   "id": "0190ca55",
   "metadata": {},
   "outputs": [
    {
     "ename": "NameError",
     "evalue": "name 'pd' is not defined",
     "output_type": "error",
     "traceback": [
      "\u001b[0;31m---------------------------------------------------------------------------\u001b[0m",
      "\u001b[0;31mNameError\u001b[0m                                 Traceback (most recent call last)",
      "Cell \u001b[0;32mIn[2], line 2\u001b[0m\n\u001b[1;32m      1\u001b[0m \u001b[38;5;66;03m# 📁 Cargar CSV con columna 'keywords'\u001b[39;00m\n\u001b[0;32m----> 2\u001b[0m df \u001b[38;5;241m=\u001b[39m pd\u001b[38;5;241m.\u001b[39mread_csv(\u001b[38;5;124m'\u001b[39m\u001b[38;5;124mkeywords.csv\u001b[39m\u001b[38;5;124m'\u001b[39m, sep\u001b[38;5;241m=\u001b[39m\u001b[38;5;124m'\u001b[39m\u001b[38;5;124m;\u001b[39m\u001b[38;5;124m'\u001b[39m, encoding\u001b[38;5;241m=\u001b[39m\u001b[38;5;124m'\u001b[39m\u001b[38;5;124mlatin1\u001b[39m\u001b[38;5;124m'\u001b[39m)\n",
      "\u001b[0;31mNameError\u001b[0m: name 'pd' is not defined"
     ]
    }
   ],
   "source": [
    "# 📁 Cargar CSV con columna 'keywords'\n",
    "df = pd.read_csv('keywords.csv', sep=';', encoding='latin1')"
   ]
  },
  {
   "cell_type": "code",
   "execution_count": 3,
   "id": "6fd01335-2b2d-4308-af48-22b38f9e74a6",
   "metadata": {},
   "outputs": [
    {
     "ename": "NameError",
     "evalue": "name 'client' is not defined",
     "output_type": "error",
     "traceback": [
      "\u001b[0;31m---------------------------------------------------------------------------\u001b[0m",
      "\u001b[0;31mNameError\u001b[0m                                 Traceback (most recent call last)",
      "Cell \u001b[0;32mIn[3], line 1\u001b[0m\n\u001b[0;32m----> 1\u001b[0m \u001b[38;5;28mprint\u001b[39m(client\u001b[38;5;241m.\u001b[39mapi_key)\n",
      "\u001b[0;31mNameError\u001b[0m: name 'client' is not defined"
     ]
    }
   ],
   "source": [
    "print(client.api_key)"
   ]
  },
  {
   "cell_type": "code",
   "execution_count": 4,
   "id": "5a06e68d",
   "metadata": {},
   "outputs": [
    {
     "ename": "NameError",
     "evalue": "name 'df' is not defined",
     "output_type": "error",
     "traceback": [
      "\u001b[0;31m---------------------------------------------------------------------------\u001b[0m",
      "\u001b[0;31mNameError\u001b[0m                                 Traceback (most recent call last)",
      "Cell \u001b[0;32mIn[4], line 5\u001b[0m\n\u001b[1;32m      3\u001b[0m contador_keywords \u001b[38;5;241m=\u001b[39m \u001b[38;5;241m0\u001b[39m\n\u001b[1;32m      4\u001b[0m indice_lote \u001b[38;5;241m=\u001b[39m \u001b[38;5;241m0\u001b[39m\n\u001b[0;32m----> 5\u001b[0m num_keywords \u001b[38;5;241m=\u001b[39m \u001b[38;5;28mlen\u001b[39m(df[\u001b[38;5;124m'\u001b[39m\u001b[38;5;124mkeywords\u001b[39m\u001b[38;5;124m'\u001b[39m])\n\u001b[1;32m      7\u001b[0m \u001b[38;5;28;01mwhile\u001b[39;00m contador_keywords \u001b[38;5;241m<\u001b[39m num_keywords:\n\u001b[1;32m      8\u001b[0m     lotes_keywords \u001b[38;5;241m=\u001b[39m df[\u001b[38;5;124m'\u001b[39m\u001b[38;5;124mkeywords\u001b[39m\u001b[38;5;124m'\u001b[39m][indice_lote:indice_lote\u001b[38;5;241m+\u001b[39m\u001b[38;5;241m50\u001b[39m]\n",
      "\u001b[0;31mNameError\u001b[0m: name 'df' is not defined"
     ]
    }
   ],
   "source": [
    "# 🔄 Agrupación de keywords en categorías\n",
    "categorias_keywords = []\n",
    "contador_keywords = 0\n",
    "indice_lote = 0\n",
    "num_keywords = len(df['keywords'])\n",
    "\n",
    "while contador_keywords < num_keywords:\n",
    "    lotes_keywords = df['keywords'][indice_lote:indice_lote+50]\n",
    "    lista_keys = lotes_keywords.tolist()\n",
    "    lote_string = '\\n'.join(lista_keys)\n",
    "\n",
    "    if len(categorias_keywords) == 0:\n",
    "        prompt = (\n",
    "            f\"Clasifica el siguiente listado de palabras clave en categorías generales relacionadas con cosmética antiedad. \"\n",
    "            f\"Devuelve solo una lista con los nombres de las categorías, una por línea:\\n\\n{lote_string}\"\n",
    "        )\n",
    "    else:\n",
    "        prompt = (\n",
    "            f\"Clasifica el siguiente listado de palabras clave en categorías relacionadas con cosmética antiedad. \"\n",
    "            f\"Usa solo categorías ya existentes si encajan: {categorias_keywords}. \"\n",
    "            f\"Devuelve solo los nombres de las categorías, una por línea:\\n\\n{lote_string}\"\n",
    "        )\n",
    "\n",
    "    response = client.chat.completions.create(\n",
    "    model=\"gpt-3.5-turbo\",\n",
    "    messages=[\n",
    "        {\"role\": \"system\", \"content\": \"Eres un experto en marketing y SEO para marcas de cosmética antiedad.\"},\n",
    "        {\"role\": \"user\", \"content\": prompt}\n",
    "    ],\n",
    "    max_tokens=1000,\n",
    "    temperature=0.7,\n",
    ")\n",
    "    text = response.choices[0].message.content\n",
    "\n",
    "    categorias_keywords_temp = response.choices[0].text.strip().split('\\n')\n",
    "    categorias_keywords += categorias_keywords_temp\n",
    "    contador_keywords += len(lotes_keywords)\n",
    "    indice_lote += 50"
   ]
  },
  {
   "cell_type": "code",
   "execution_count": 5,
   "id": "aa9494b2",
   "metadata": {},
   "outputs": [
    {
     "ename": "NameError",
     "evalue": "name 'num_keywords' is not defined",
     "output_type": "error",
     "traceback": [
      "\u001b[0;31m---------------------------------------------------------------------------\u001b[0m",
      "\u001b[0;31mNameError\u001b[0m                                 Traceback (most recent call last)",
      "Cell \u001b[0;32mIn[5], line 6\u001b[0m\n\u001b[1;32m      3\u001b[0m contador_keywords \u001b[38;5;241m=\u001b[39m \u001b[38;5;241m0\u001b[39m\n\u001b[1;32m      4\u001b[0m indice_lote \u001b[38;5;241m=\u001b[39m \u001b[38;5;241m0\u001b[39m\n\u001b[0;32m----> 6\u001b[0m \u001b[38;5;28;01mwhile\u001b[39;00m contador_keywords \u001b[38;5;241m<\u001b[39m num_keywords:\n\u001b[1;32m      7\u001b[0m     lotes_keywords \u001b[38;5;241m=\u001b[39m df[\u001b[38;5;124m'\u001b[39m\u001b[38;5;124mkeywords\u001b[39m\u001b[38;5;124m'\u001b[39m][indice_lote:indice_lote\u001b[38;5;241m+\u001b[39m\u001b[38;5;241m50\u001b[39m]\n\u001b[1;32m      8\u001b[0m     lista_keys \u001b[38;5;241m=\u001b[39m lotes_keywords\u001b[38;5;241m.\u001b[39mtolist()\n",
      "\u001b[0;31mNameError\u001b[0m: name 'num_keywords' is not defined"
     ]
    }
   ],
   "source": [
    "# 🔁 Clasificación final de keywords en sus categorías\n",
    "keywords_categorizadas = []\n",
    "contador_keywords = 0\n",
    "indice_lote = 0\n",
    "\n",
    "while contador_keywords < num_keywords:\n",
    "    lotes_keywords = df['keywords'][indice_lote:indice_lote+50]\n",
    "    lista_keys = lotes_keywords.tolist()\n",
    "    lote_string = '\\n'.join(lista_keys)\n",
    "\n",
    "    prompt = (\n",
    "        f\"Asocia cada palabra clave a una categoría del siguiente listado: {categorias_keywords}. \"\n",
    "        f\"Devuelve el resultado en formato 'Categoría:Keyword', una por línea:\\n\\n{lote_string}\"\n",
    "    )\n",
    "\n",
    "    response = client.completions.create(\n",
    "        model=\"text-davinci-003\",\n",
    "        prompt=prompt,\n",
    "        max_tokens=1000,\n",
    "        temperature=0.7,\n",
    "    )\n",
    "\n",
    "    keywords_categorizadas_temp = response.choices[0].text.strip().split('\\n')\n",
    "    keywords_categorizadas += keywords_categorizadas_temp\n",
    "    contador_keywords += len(lotes_keywords)\n",
    "    indice_lote += 50"
   ]
  },
  {
   "cell_type": "code",
   "execution_count": null,
   "id": "cae6ba38",
   "metadata": {},
   "outputs": [],
   "source": [
    "# 📊 Formatear resultados en DataFrame\n",
    "categorias = []\n",
    "keywords = []\n",
    "for elemento in keywords_categorizadas:\n",
    "    if ':' in elemento:\n",
    "        categoria, keyword = elemento.split(':', 1)\n",
    "        categorias.append(categoria.strip())\n",
    "        keywords.append(keyword.strip())\n",
    "\n",
    "tabla = pd.DataFrame({'Categoría': categorias, 'Keyword': keywords})\n",
    "display(tabla)"
   ]
  }
 ],
 "metadata": {
  "kernelspec": {
   "display_name": "Python [conda env:base] *",
   "language": "python",
   "name": "conda-base-py"
  },
  "language_info": {
   "codemirror_mode": {
    "name": "ipython",
    "version": 3
   },
   "file_extension": ".py",
   "mimetype": "text/x-python",
   "name": "python",
   "nbconvert_exporter": "python",
   "pygments_lexer": "ipython3",
   "version": "3.12.7"
  }
 },
 "nbformat": 4,
 "nbformat_minor": 5
}
