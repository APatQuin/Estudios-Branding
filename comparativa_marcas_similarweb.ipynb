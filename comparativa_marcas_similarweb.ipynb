{
 "cells": [
  {
   "cell_type": "markdown",
   "id": "454740d0",
   "metadata": {},
   "source": [
    "# Comparativa de Marcas Cosméticas (Similarweb API)\n",
    "Este notebook analiza tráfico total, fuentes de tráfico, dispositivos y distribución geográfica de dominios del sector cosmético antiedad."
   ]
  },
  {
   "cell_type": "code",
   "execution_count": 1,
   "id": "58aeeaca",
   "metadata": {},
   "outputs": [],
   "source": [
    "# ✅ Librerías necesarias\n",
    "import requests\n",
    "import pandas as pd"
   ]
  },
  {
   "cell_type": "code",
   "execution_count": null,
   "id": "3b2164d1",
   "metadata": {},
   "outputs": [],
   "source": [
    "# 🔐 Tu API Key (reemplázala por la real)\n",
    "API_KEY = 'TU_API_KEY_AQUI'\n",
    "BASE_URL = 'https://api.similarweb.com/v1/website'"
   ]
  },
  {
   "cell_type": "code",
   "execution_count": null,
   "id": "5887cdb9",
   "metadata": {},
   "outputs": [],
   "source": [
    "# 🔄 Funciones para obtener distintos tipos de datos\n",
    "def get_traffic(domain):\n",
    "    url = f\"{BASE_URL}/{domain}/total-traffic-and-engagement/overview\"\n",
    "    params = {'api_key': API_KEY, 'start_date': '2024-12', 'end_date': '2024-12',\n",
    "              'main_domain_only': 'true', 'granularity': 'monthly', 'format': 'json'}\n",
    "    r = requests.get(url, params=params)\n",
    "    return r.json() if r.status_code == 200 else {}\n",
    "\n",
    "def get_sources(domain):\n",
    "    url = f\"{BASE_URL}/{domain}/traffic-sources/overview\"\n",
    "    params = {'api_key': API_KEY, 'start_date': '2024-12', 'end_date': '2024-12',\n",
    "              'main_domain_only': 'true', 'format': 'json'}\n",
    "    r = requests.get(url, params=params)\n",
    "    return r.json() if r.status_code == 200 else {}\n",
    "\n",
    "def get_geo(domain):\n",
    "    url = f\"{BASE_URL}/{domain}/geo-distribution/overview\"\n",
    "    params = {'api_key': API_KEY, 'start_date': '2024-12', 'end_date': '2024-12',\n",
    "              'main_domain_only': 'true', 'format': 'json'}\n",
    "    r = requests.get(url, params=params)\n",
    "    return r.json() if r.status_code == 200 else {}\n",
    "\n",
    "def get_devices(domain):\n",
    "    url = f\"{BASE_URL}/{domain}/devices/overview\"\n",
    "    params = {'api_key': API_KEY, 'start_date': '2024-12', 'end_date': '2024-12',\n",
    "              'main_domain_only': 'true', 'format': 'json'}\n",
    "    r = requests.get(url, params=params)\n",
    "    return r.json() if r.status_code == 200 else {}"
   ]
  },
  {
   "cell_type": "code",
   "execution_count": null,
   "id": "478cc7e0",
   "metadata": {},
   "outputs": [],
   "source": [
    "# 🔍 Lista de dominios a analizar\n",
    "competidores = [\n",
    "    'paulaschoice.es',\n",
    "    'skinclinic.es',\n",
    "    'laroche-posay.es',\n",
    "    'cantabrialabs.es',\n",
    "    'kiehls.es',\n",
    "    'esthederm.es'\n",
    "]"
   ]
  },
  {
   "cell_type": "code",
   "execution_count": null,
   "id": "a6cbd3dd",
   "metadata": {},
   "outputs": [],
   "source": [
    "# 📊 Recolectar y combinar datos en una tabla\n",
    "data = []\n",
    "for dominio in competidores:\n",
    "    t = get_traffic(dominio)\n",
    "    s = get_sources(dominio)\n",
    "    g = get_geo(dominio)\n",
    "    d = get_devices(dominio)\n",
    "\n",
    "    fila = {\n",
    "        'Dominio': dominio,\n",
    "        'Visitas': t.get('visits'),\n",
    "        'Duración': t.get('average_visit_duration'),\n",
    "        'Páginas por visita': t.get('pages_per_visit'),\n",
    "        'Rebote (%)': t.get('bounce_rate'),\n",
    "        'Tráfico Búsqueda': s.get('search', {}).get('value'),\n",
    "        'Tráfico Directo': s.get('direct', {}).get('value'),\n",
    "        'Tráfico Social': s.get('social', {}).get('value'),\n",
    "        'Principal País': g.get('top_countries', [{}])[0].get('country'),\n",
    "        'Tráfico desde móvil (%)': d.get('mobile', {}).get('percentage')\n",
    "    }\n",
    "    data.append(fila)\n",
    "\n",
    "df = pd.DataFrame(data)\n",
    "df.sort_values(by='Visitas', ascending=False)"
   ]
  }
 ],
 "metadata": {
  "kernelspec": {
   "display_name": "Python 3 (ipykernel)",
   "language": "python",
   "name": "python3"
  },
  "language_info": {
   "codemirror_mode": {
    "name": "ipython",
    "version": 3
   },
   "file_extension": ".py",
   "mimetype": "text/x-python",
   "name": "python",
   "nbconvert_exporter": "python",
   "pygments_lexer": "ipython3",
   "version": "3.12.9"
  }
 },
 "nbformat": 4,
 "nbformat_minor": 5
}
